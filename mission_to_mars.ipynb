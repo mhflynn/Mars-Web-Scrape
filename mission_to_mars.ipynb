{
 "cells": [
  {
   "cell_type": "markdown",
   "metadata": {},
   "source": [
    "## Mission to Mars"
   ]
  },
  {
   "cell_type": "code",
   "execution_count": 1,
   "metadata": {},
   "outputs": [],
   "source": [
    "from splinter import Browser\n",
    "from bs4 import BeautifulSoup as bs\n",
    "import requests\n",
    "import pandas as pd\n",
    "import time"
   ]
  },
  {
   "cell_type": "code",
   "execution_count": 2,
   "metadata": {},
   "outputs": [
    {
     "name": "stdout",
     "output_type": "stream",
     "text": [
      "/usr/local/bin/chromedriver\r\n"
     ]
    }
   ],
   "source": [
    "# Confirm chrome driver is available\n",
    "# https://splinter.readthedocs.io/en/latest/drivers/chrome.html\n",
    "!which chromedriver"
   ]
  },
  {
   "cell_type": "code",
   "execution_count": 3,
   "metadata": {},
   "outputs": [],
   "source": [
    "#Create Browser object\n",
    "executable_path = {'executable_path': '/usr/local/bin/chromedriver'}\n",
    "browser = Browser('chrome', **executable_path, headless=True)"
   ]
  },
  {
   "cell_type": "markdown",
   "metadata": {},
   "source": [
    "### Scrape the NASA Mars news site for latest article"
   ]
  },
  {
   "cell_type": "code",
   "execution_count": 4,
   "metadata": {},
   "outputs": [],
   "source": [
    "# Open the news page for NASA Mars site, use BeautifulSoup to parse the HTML\n",
    "\n",
    "url = 'https://mars.nasa.gov/news/'\n",
    "browser.visit(url)\n",
    "time.sleep(3)  # Sometimes wrong html is captured, sleep seems to help\n",
    "\n",
    "soup = bs(browser.html, 'html.parser')"
   ]
  },
  {
   "cell_type": "code",
   "execution_count": 5,
   "metadata": {},
   "outputs": [
    {
     "name": "stdout",
     "output_type": "stream",
     "text": [
      "Six Things to Know About NASA's Opportunity Rover \n",
      " Opportunity's mission is complete. Here are highlights from its time on Mars.\n"
     ]
    }
   ],
   "source": [
    "# From inspection of the HTML using browser developer tools, the news articles are\n",
    "# in a list, within the <section> tag of class type \"grid_gallery\". Each list item has\n",
    "# a <div> tag of class type \"list_text\", within which the article title and description \n",
    "# can be extracted from <div> tags of class \"content_title\" and \"article_teaser_body\", \n",
    "# respectively. Since request is for the latest/first article in the list, use find\n",
    "# method to get the first one.\n",
    "\n",
    "news = soup.find(\"section\", class_=\"grid_gallery\").find(\"div\", class_=\"list_text\")\n",
    "news_title = news.find('div', class_='content_title').text\n",
    "news_p = news.find('div', class_='article_teaser_body').text\n",
    "print (news_title, \"\\n\", news_p)"
   ]
  },
  {
   "cell_type": "markdown",
   "metadata": {},
   "source": [
    "### JPL Mars Featured Image Scrape"
   ]
  },
  {
   "cell_type": "code",
   "execution_count": 6,
   "metadata": {},
   "outputs": [],
   "source": [
    "jpl_url = \"https://www.jpl.nasa.gov\"\n",
    "query = \"/spaceimages/?search=&category=Mars\"\n",
    "browser.visit(jpl_url+query)\n",
    "\n",
    "jpl_soup = bs(browser.html, 'html.parser')\n"
   ]
  },
  {
   "cell_type": "code",
   "execution_count": 7,
   "metadata": {},
   "outputs": [
    {
     "data": {
      "text/plain": [
       "'https://www.jpl.nasa.gov/spaceimages/images/mediumsize/PIA19141_ip.jpg'"
      ]
     },
     "execution_count": 7,
     "metadata": {},
     "output_type": "execute_result"
    }
   ],
   "source": [
    "featured_image_url = jpl_url+jpl_soup.find('a', id='full_image')['data-fancybox-href']\n",
    "featured_image_url"
   ]
  },
  {
   "cell_type": "markdown",
   "metadata": {},
   "source": [
    "### Mars Weather Scrape"
   ]
  },
  {
   "cell_type": "code",
   "execution_count": 8,
   "metadata": {},
   "outputs": [],
   "source": [
    "tw_url = \"https://twitter.com/marswxreport?lang=en\"\n",
    "\n",
    "browser.visit(tw_url)\n",
    "\n",
    "tw_soup = bs(browser.html, 'html.parser')"
   ]
  },
  {
   "cell_type": "code",
   "execution_count": 9,
   "metadata": {},
   "outputs": [
    {
     "data": {
      "text/plain": [
       "'Sol 2319 (2019-02-13), high -17C/1F, low -72C/-97F, pressure at 8.12 hPa, daylight 06:46-18:52'"
      ]
     },
     "execution_count": 9,
     "metadata": {},
     "output_type": "execute_result"
    }
   ],
   "source": [
    "# Loop through the tweets to find weather report\n",
    "for t in tw_soup.find_all('p', class_='tweet-text') :\n",
    "    if t.text.startswith(\"Sol\") :\n",
    "        mars_weather = t.text\n",
    "        break\n",
    "\n",
    "# Remove extraneous text as end of the weather text\n",
    "mars_weather.find('pic.twitter')\n",
    "mars_weather = mars_weather[0:mars_weather.find('pic.twitter')]\n",
    "mars_weather"
   ]
  },
  {
   "cell_type": "markdown",
   "metadata": {},
   "source": [
    "### Mars Facts Scrape"
   ]
  },
  {
   "cell_type": "code",
   "execution_count": 10,
   "metadata": {},
   "outputs": [],
   "source": [
    "# Use pandas to extract table data from space-facts page\n",
    "facts_url = 'https://space-facts.com/mars/'\n",
    "tables = pd.read_html(facts_url)\n",
    "tables[0].head();"
   ]
  },
  {
   "cell_type": "code",
   "execution_count": 11,
   "metadata": {},
   "outputs": [],
   "source": [
    "# Format the table for bootstrap\n",
    "\n",
    "table_soup = bs(tables[0].to_html(header=False, index=False), 'html.parser')\n",
    "\n",
    "table_soup.table['class']='table table-sm table-bordered small'\n",
    "\n",
    "del table_soup.table['border']\n",
    "\n",
    "for tag in table_soup.table.tbody.find_all('tr') :\n",
    "    tag.td['scope'] = 'row'\n",
    "    tag.td.name = 'th'\n",
    "    \n",
    "facts = str(table_soup)"
   ]
  },
  {
   "cell_type": "markdown",
   "metadata": {},
   "source": [
    "### Mars Hemispheres Scrape"
   ]
  },
  {
   "cell_type": "code",
   "execution_count": 12,
   "metadata": {},
   "outputs": [],
   "source": [
    "hemi_url = \"https://astrogeology.usgs.gov\"\n",
    "hemi_query = \"/search/results?q=hemisphere+enhanced&k1=target&v1=Mars\"\n",
    "browser.visit(hemi_url+hemi_query)\n",
    "\n",
    "hemi_soup = bs(browser.html, 'html.parser')"
   ]
  },
  {
   "cell_type": "code",
   "execution_count": 13,
   "metadata": {},
   "outputs": [
    {
     "data": {
      "text/plain": [
       "[{'title': 'Cerberus Hemisphere Enhanced'},\n",
       " {'title': 'Schiaparelli Hemisphere Enhanced'},\n",
       " {'title': 'Syrtis Major Hemisphere Enhanced'},\n",
       " {'title': 'Valles Marineris Hemisphere Enhanced'}]"
      ]
     },
     "execution_count": 13,
     "metadata": {},
     "output_type": "execute_result"
    }
   ],
   "source": [
    "hemi_map = []\n",
    "for h in hemi_soup.find_all('div', class_=\"description\") :\n",
    "    hemi_map.append({'title':h.find('a').text})\n",
    "    \n",
    "hemi_map"
   ]
  },
  {
   "cell_type": "code",
   "execution_count": 14,
   "metadata": {},
   "outputs": [
    {
     "name": "stdout",
     "output_type": "stream",
     "text": [
      "/cache/images/cfa62af2557222a02478f1fcd781d445_cerberus_enhanced.tif_full.jpg\n",
      "/cache/images/3cdd1cbf5e0813bba925c9030d13b62e_schiaparelli_enhanced.tif_full.jpg\n",
      "/cache/images/ae209b4e408bb6c3e67b6af38168cf28_syrtis_major_enhanced.tif_full.jpg\n",
      "/cache/images/7cf2da4bf549ed01c17f206327be4db7_valles_marineris_enhanced.tif_full.jpg\n"
     ]
    }
   ],
   "source": [
    "for hmp in hemi_map :\n",
    "    browser.visit(hemi_url+hemi_query)\n",
    "    browser.click_link_by_partial_text(hmp['title'])\n",
    "    \n",
    "    link_soup = bs(browser.html, 'html.parser')\n",
    "    url = link_soup.find('img', class_='wide-image')['src']\n",
    "    hmp['img_url'] = hemi_url+url\n",
    "    print(url)"
   ]
  },
  {
   "cell_type": "code",
   "execution_count": 15,
   "metadata": {},
   "outputs": [
    {
     "data": {
      "text/plain": [
       "[{'title': 'Cerberus Hemisphere Enhanced',\n",
       "  'img_url': 'https://astrogeology.usgs.gov/cache/images/cfa62af2557222a02478f1fcd781d445_cerberus_enhanced.tif_full.jpg'},\n",
       " {'title': 'Schiaparelli Hemisphere Enhanced',\n",
       "  'img_url': 'https://astrogeology.usgs.gov/cache/images/3cdd1cbf5e0813bba925c9030d13b62e_schiaparelli_enhanced.tif_full.jpg'},\n",
       " {'title': 'Syrtis Major Hemisphere Enhanced',\n",
       "  'img_url': 'https://astrogeology.usgs.gov/cache/images/ae209b4e408bb6c3e67b6af38168cf28_syrtis_major_enhanced.tif_full.jpg'},\n",
       " {'title': 'Valles Marineris Hemisphere Enhanced',\n",
       "  'img_url': 'https://astrogeology.usgs.gov/cache/images/7cf2da4bf549ed01c17f206327be4db7_valles_marineris_enhanced.tif_full.jpg'}]"
      ]
     },
     "execution_count": 15,
     "metadata": {},
     "output_type": "execute_result"
    }
   ],
   "source": [
    "hemi_map"
   ]
  },
  {
   "cell_type": "code",
   "execution_count": null,
   "metadata": {},
   "outputs": [],
   "source": []
  }
 ],
 "metadata": {
  "kernelspec": {
   "display_name": "Python 3",
   "language": "python",
   "name": "python3"
  },
  "language_info": {
   "codemirror_mode": {
    "name": "ipython",
    "version": 3
   },
   "file_extension": ".py",
   "mimetype": "text/x-python",
   "name": "python",
   "nbconvert_exporter": "python",
   "pygments_lexer": "ipython3",
   "version": "3.6.7"
  }
 },
 "nbformat": 4,
 "nbformat_minor": 2
}
